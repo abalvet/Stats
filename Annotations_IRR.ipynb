{
  "nbformat": 4,
  "nbformat_minor": 0,
  "metadata": {
    "colab": {
      "name": "Annotations_IRR.ipynb",
      "provenance": [],
      "authorship_tag": "ABX9TyPPUOLAZCQuLMfxGqK+gsc8",
      "include_colab_link": true
    },
    "kernelspec": {
      "name": "ir",
      "display_name": "R"
    },
    "language_info": {
      "name": "R"
    }
  },
  "cells": [
    {
      "cell_type": "markdown",
      "metadata": {
        "id": "view-in-github",
        "colab_type": "text"
      },
      "source": [
        "<a href=\"https://colab.research.google.com/github/abalvet/Stats/blob/main/Annotations_IRR.ipynb\" target=\"_parent\"><img src=\"https://colab.research.google.com/assets/colab-badge.svg\" alt=\"Open In Colab\"/></a>"
      ]
    },
    {
      "cell_type": "code",
      "execution_count": 1,
      "metadata": {
        "colab": {
          "base_uri": "https://localhost:8080/",
          "height": 34
        },
        "id": "MC292nXhVt94",
        "outputId": "edd18e01-af1f-4a1a-b476-ea29e0ac1171"
      },
      "outputs": [
        {
          "output_type": "display_data",
          "data": {
            "text/plain": [
              "[1] \"R version 4.1.2 (2021-11-01)\""
            ],
            "text/latex": "'R version 4.1.2 (2021-11-01)'",
            "text/markdown": "'R version 4.1.2 (2021-11-01)'",
            "text/html": [
              "'R version 4.1.2 (2021-11-01)'"
            ]
          },
          "metadata": {}
        }
      ],
      "source": [
        "R.version.string"
      ]
    },
    {
      "cell_type": "code",
      "source": [
        "install.packages(\"irrCAC\")"
      ],
      "metadata": {
        "colab": {
          "base_uri": "https://localhost:8080/"
        },
        "id": "9auQreVfWYly",
        "outputId": "0c554e7b-6f58-4abb-a431-f0905ce08221"
      },
      "execution_count": 4,
      "outputs": [
        {
          "output_type": "stream",
          "name": "stderr",
          "text": [
            "Installing package into ‘/usr/local/lib/R/site-library’\n",
            "(as ‘lib’ is unspecified)\n",
            "\n"
          ]
        }
      ]
    },
    {
      "cell_type": "code",
      "source": [
        "library(irrCAC)"
      ],
      "metadata": {
        "id": "WnaWW9xHWrr2"
      },
      "execution_count": 6,
      "outputs": []
    },
    {
      "cell_type": "code",
      "source": [
        "cac.raw4raters"
      ],
      "metadata": {
        "colab": {
          "base_uri": "https://localhost:8080/",
          "height": 474
        },
        "id": "ROCzpVYTWvQw",
        "outputId": "31f50efb-fa7f-4b30-b82c-759abeb630df"
      },
      "execution_count": 9,
      "outputs": [
        {
          "output_type": "display_data",
          "data": {
            "text/plain": [
              "   Rater1 Rater2 Rater3 Rater4\n",
              "1   1      1     NA      1    \n",
              "2   2      2      3      2    \n",
              "3   3      3      3      3    \n",
              "4   3      3      3      3    \n",
              "5   2      2      2      2    \n",
              "6   1      2      3      4    \n",
              "7   4      4      4      4    \n",
              "8   1      1      2      1    \n",
              "9   2      2      2      2    \n",
              "10 NA      5      5      5    \n",
              "11 NA     NA      1      1    \n",
              "12 NA     NA      3     NA    "
            ],
            "text/latex": "A data.frame: 12 × 4\n\\begin{tabular}{r|llll}\n  & Rater1 & Rater2 & Rater3 & Rater4\\\\\n  & <int> & <int> & <int> & <int>\\\\\n\\hline\n\t1 &  1 &  1 & NA &  1\\\\\n\t2 &  2 &  2 &  3 &  2\\\\\n\t3 &  3 &  3 &  3 &  3\\\\\n\t4 &  3 &  3 &  3 &  3\\\\\n\t5 &  2 &  2 &  2 &  2\\\\\n\t6 &  1 &  2 &  3 &  4\\\\\n\t7 &  4 &  4 &  4 &  4\\\\\n\t8 &  1 &  1 &  2 &  1\\\\\n\t9 &  2 &  2 &  2 &  2\\\\\n\t10 & NA &  5 &  5 &  5\\\\\n\t11 & NA & NA &  1 &  1\\\\\n\t12 & NA & NA &  3 & NA\\\\\n\\end{tabular}\n",
            "text/markdown": "\nA data.frame: 12 × 4\n\n| <!--/--> | Rater1 &lt;int&gt; | Rater2 &lt;int&gt; | Rater3 &lt;int&gt; | Rater4 &lt;int&gt; |\n|---|---|---|---|---|\n| 1 |  1 |  1 | NA |  1 |\n| 2 |  2 |  2 |  3 |  2 |\n| 3 |  3 |  3 |  3 |  3 |\n| 4 |  3 |  3 |  3 |  3 |\n| 5 |  2 |  2 |  2 |  2 |\n| 6 |  1 |  2 |  3 |  4 |\n| 7 |  4 |  4 |  4 |  4 |\n| 8 |  1 |  1 |  2 |  1 |\n| 9 |  2 |  2 |  2 |  2 |\n| 10 | NA |  5 |  5 |  5 |\n| 11 | NA | NA |  1 |  1 |\n| 12 | NA | NA |  3 | NA |\n\n",
            "text/html": [
              "<table class=\"dataframe\">\n",
              "<caption>A data.frame: 12 × 4</caption>\n",
              "<thead>\n",
              "\t<tr><th></th><th scope=col>Rater1</th><th scope=col>Rater2</th><th scope=col>Rater3</th><th scope=col>Rater4</th></tr>\n",
              "\t<tr><th></th><th scope=col>&lt;int&gt;</th><th scope=col>&lt;int&gt;</th><th scope=col>&lt;int&gt;</th><th scope=col>&lt;int&gt;</th></tr>\n",
              "</thead>\n",
              "<tbody>\n",
              "\t<tr><th scope=row>1</th><td> 1</td><td> 1</td><td>NA</td><td> 1</td></tr>\n",
              "\t<tr><th scope=row>2</th><td> 2</td><td> 2</td><td> 3</td><td> 2</td></tr>\n",
              "\t<tr><th scope=row>3</th><td> 3</td><td> 3</td><td> 3</td><td> 3</td></tr>\n",
              "\t<tr><th scope=row>4</th><td> 3</td><td> 3</td><td> 3</td><td> 3</td></tr>\n",
              "\t<tr><th scope=row>5</th><td> 2</td><td> 2</td><td> 2</td><td> 2</td></tr>\n",
              "\t<tr><th scope=row>6</th><td> 1</td><td> 2</td><td> 3</td><td> 4</td></tr>\n",
              "\t<tr><th scope=row>7</th><td> 4</td><td> 4</td><td> 4</td><td> 4</td></tr>\n",
              "\t<tr><th scope=row>8</th><td> 1</td><td> 1</td><td> 2</td><td> 1</td></tr>\n",
              "\t<tr><th scope=row>9</th><td> 2</td><td> 2</td><td> 2</td><td> 2</td></tr>\n",
              "\t<tr><th scope=row>10</th><td>NA</td><td> 5</td><td> 5</td><td> 5</td></tr>\n",
              "\t<tr><th scope=row>11</th><td>NA</td><td>NA</td><td> 1</td><td> 1</td></tr>\n",
              "\t<tr><th scope=row>12</th><td>NA</td><td>NA</td><td> 3</td><td>NA</td></tr>\n",
              "</tbody>\n",
              "</table>\n"
            ]
          },
          "metadata": {}
        }
      ]
    },
    {
      "cell_type": "code",
      "source": [
        "annotations <- read.delim2(\"https://raw.githubusercontent.com/abalvet/Stats/main/doctissimo1_11annotateurs.csv\", header = FALSE, sep = \"\\t\")"
      ],
      "metadata": {
        "id": "aG1x_qnLXyed"
      },
      "execution_count": 10,
      "outputs": []
    },
    {
      "cell_type": "code",
      "source": [
        "annotations"
      ],
      "metadata": {
        "colab": {
          "base_uri": "https://localhost:8080/",
          "height": 1000
        },
        "id": "O_re0IzGX8yI",
        "outputId": "942d42b7-b1ea-47d8-b056-6f7572c13824"
      },
      "execution_count": 11,
      "outputs": [
        {
          "output_type": "display_data",
          "data": {
            "text/plain": [
              "    V1       V2                    V3 V4 V5           V6                   \n",
              "1   ID:START AR                    BW CL JG           JL                   \n",
              "2   1-1      _                     _  _  _            _                    \n",
              "3   1-2      _                     _  _  _            _                    \n",
              "4   1-3      _                     _  _  _            _                    \n",
              "5   1-4      _                     _  _  _            _                    \n",
              "6   1-5      _                     _  _  _            _                    \n",
              "7   1-6      _                     _  _  _            _                    \n",
              "8   1-7      _                     _  _  _            _                    \n",
              "9   1-8      _                     _  _  _            _                    \n",
              "10  1-9      _                     _  _  _            _                    \n",
              "11  1-10     _                     _  _  _            _                    \n",
              "12  1-11     _                     _  _  _            _                    \n",
              "13  1-12     _                     _  _  _            _                    \n",
              "14  1-13     _                     _  _  _            _                    \n",
              "15  1-14     _                     _  _  _            _                    \n",
              "16  1-15     _                     _  _  _            _                    \n",
              "17  1-16     _                     _  _  _            _                    \n",
              "18  1-17     _                     _  _  _            _                    \n",
              "19  1-18     _                     _  _  _            _                    \n",
              "20  1-19     _                     _  _  _            _                    \n",
              "21  1-20     _                     _  _  _            _                    \n",
              "22  1-21     _                     _  _  _            _                    \n",
              "23  1-22     _                     _  _  _            _                    \n",
              "24  1-23     _                     _  _  _            _                    \n",
              "25  1-24     _                     _  _  _            _                    \n",
              "26  1-25     _                     _  _  _            _                    \n",
              "27  1-26     _                     _  _  _            _                    \n",
              "28  1-27     _                     _  _  _            _                    \n",
              "29  1-28     _                     _  _  _            _                    \n",
              "30  1-29     _                     _  _  _            _                    \n",
              "⋮   ⋮        ⋮                     ⋮  ⋮  ⋮            ⋮                    \n",
              "916 32-13    _                     _  _  _            _                    \n",
              "917 32-14    _                     _  _  _            _                    \n",
              "918 32-15    _                     _  _  _            _                    \n",
              "919 32-16    _                     _  _  _            _                    \n",
              "920 32-17    _                     _  _  _            _                    \n",
              "921 32-18    _                     _  _  _            _                    \n",
              "922 32-19    _                     _  _  _            _                    \n",
              "923 32-20    _                     _  _  _            _                    \n",
              "924 32-21    _                     _  _  _            _                    \n",
              "925 32-22    _                     _  _  _            _                    \n",
              "926 32-23    _                     _  _  _            _                    \n",
              "927 32-24    _                     _  _  _            _                    \n",
              "928 32-25    _                     _  _  _            _                    \n",
              "929 32-26    _                     _  _  _            _                    \n",
              "930 32-27    _                     _  _  _            _                    \n",
              "931 32-28    _                     _  _  _            _                    \n",
              "932 32-29    _                     _  _  _            _                    \n",
              "933 32-30    BEVERAGE[56]          _  _  BEVERAGE[46] BEVERAGE[42]         \n",
              "934 32-31    BEVERAGE[56]          _  _  BEVERAGE[46] BEVERAGE[42]         \n",
              "935 32-32    BEVERAGE[56]|FOOD[57] _  _  BEVERAGE[46] BEVERAGE[42]|FOOD[43]\n",
              "936 32-33    _                     _  _  _            _                    \n",
              "937 32-34    _                     _  _  _            _                    \n",
              "938 32-35    _                     _  _  _            _                    \n",
              "939 32-36    INTERACTION           _  _  INTERACTION  INTERACTION          \n",
              "940 32-37    _                     _  _  _            _                    \n",
              "941 32-38    _                     _  _  _            _                    \n",
              "942 32-39    DRUG                  _  _  DRUG         DRUG:HYP             \n",
              "943 32-40    _                     _  _  _            _                    \n",
              "944 32-41    _                     _  _  _            _                    \n",
              "945 32-42    _                     _  _  _            _                    \n",
              "    V7                    V8  V9                    V10                   V11\n",
              "1   LB                    MAD MM                    NB                    SB \n",
              "2   _                     _   _                     _                     _  \n",
              "3   _                     _   _                     _                     _  \n",
              "4   _                     _   _                     _                     _  \n",
              "5   _                     _   _                     _                     _  \n",
              "6   _                     _   _                     _                     _  \n",
              "7   _                     _   _                     _                     _  \n",
              "8   _                     _   _                     _                     _  \n",
              "9   _                     _   _                     _                     _  \n",
              "10  _                     _   _                     _                     _  \n",
              "11  _                     _   _                     _                     _  \n",
              "12  _                     _   _                     _                     _  \n",
              "13  _                     _   _                     _                     _  \n",
              "14  _                     _   _                     _                     _  \n",
              "15  _                     _   _                     _                     _  \n",
              "16  _                     _   _                     _                     _  \n",
              "17  _                     _   _                     _                     _  \n",
              "18  _                     _   _                     _                     _  \n",
              "19  _                     _   _                     _                     _  \n",
              "20  _                     _   _                     _                     _  \n",
              "21  _                     _   _                     _                     _  \n",
              "22  _                     _   _                     _                     _  \n",
              "23  _                     _   _                     _                     _  \n",
              "24  _                     _   _                     _                     _  \n",
              "25  _                     _   _                     _                     _  \n",
              "26  _                     _   _                     _                     _  \n",
              "27  _                     _   _                     _                     _  \n",
              "28  _                     _   _                     _                     _  \n",
              "29  _                     _   _                     _                     _  \n",
              "30  _                     _   _                     _                     _  \n",
              "⋮   ⋮                     ⋮   ⋮                     ⋮                     ⋮  \n",
              "916 _                     _   _                     _                     _  \n",
              "917 _                     _   _                     _                     _  \n",
              "918 _                     _   _                     _                     _  \n",
              "919 _                     _   _                     _                     _  \n",
              "920 _                     _   _                     _                     _  \n",
              "921 _                     _   _                     _                     _  \n",
              "922 INTERACTION           _   _                     _                     _  \n",
              "923 _                     _   _                     _                     _  \n",
              "924 _                     _   _                     _                     _  \n",
              "925 _                     _   _                     _                     _  \n",
              "926 _                     _   _                     _                     _  \n",
              "927 _                     _   _                     _                     _  \n",
              "928 _                     _   _                     _                     _  \n",
              "929 _                     _   _                     _                     _  \n",
              "930 _                     _   _                     _                     _  \n",
              "931 _                     _   _                     _                     _  \n",
              "932 _                     _   _                     BEVERAGE[43]          _  \n",
              "933 BEVERAGE[46]          _   BEVERAGE[38]          BEVERAGE[43]          _  \n",
              "934 BEVERAGE[46]          _   BEVERAGE[38]          BEVERAGE[43]          _  \n",
              "935 BEVERAGE[46]|FOOD[47] _   BEVERAGE[38]|FOOD[39] BEVERAGE[43]|FOOD[44] _  \n",
              "936 _                     _   _                     _                     _  \n",
              "937 _                     _   _                     _                     _  \n",
              "938 _                     _   _                     _                     _  \n",
              "939 INTERACTION           _   INTERACTION           _                     _  \n",
              "940 _                     _   _                     _                     _  \n",
              "941 _                     _   _                     _                     _  \n",
              "942 DRUG:HYPER            _   DRUG                  _                     _  \n",
              "943 _                     _   _                     _                     _  \n",
              "944 _                     _   _                     _                     _  \n",
              "945 _                     _   _                     _                     _  \n",
              "    V12\n",
              "1   SN \n",
              "2   _  \n",
              "3   _  \n",
              "4   _  \n",
              "5   _  \n",
              "6   _  \n",
              "7   _  \n",
              "8   _  \n",
              "9   _  \n",
              "10  _  \n",
              "11  _  \n",
              "12  _  \n",
              "13  _  \n",
              "14  _  \n",
              "15  _  \n",
              "16  _  \n",
              "17  _  \n",
              "18  _  \n",
              "19  _  \n",
              "20  _  \n",
              "21  _  \n",
              "22  _  \n",
              "23  _  \n",
              "24  _  \n",
              "25  _  \n",
              "26  _  \n",
              "27  _  \n",
              "28  _  \n",
              "29  _  \n",
              "30  _  \n",
              "⋮   ⋮  \n",
              "916 _  \n",
              "917 _  \n",
              "918 _  \n",
              "919 _  \n",
              "920 _  \n",
              "921 _  \n",
              "922 _  \n",
              "923 _  \n",
              "924 _  \n",
              "925 _  \n",
              "926 _  \n",
              "927 _  \n",
              "928 _  \n",
              "929 _  \n",
              "930 _  \n",
              "931 _  \n",
              "932 _  \n",
              "933 _  \n",
              "934 _  \n",
              "935 _  \n",
              "936 _  \n",
              "937 _  \n",
              "938 _  \n",
              "939 _  \n",
              "940 _  \n",
              "941 _  \n",
              "942 _  \n",
              "943 _  \n",
              "944 _  \n",
              "945 _  "
            ],
            "text/latex": "A data.frame: 945 × 12\n\\begin{tabular}{llllllllllll}\n V1 & V2 & V3 & V4 & V5 & V6 & V7 & V8 & V9 & V10 & V11 & V12\\\\\n <chr> & <chr> & <chr> & <chr> & <chr> & <chr> & <chr> & <chr> & <chr> & <chr> & <chr> & <chr>\\\\\n\\hline\n\t ID:START & AR & BW & CL & JG & JL & LB & MAD & MM & NB & SB & SN\\\\\n\t 1-1      & \\_  & \\_  & \\_  & \\_  & \\_  & \\_  & \\_   & \\_  & \\_  & \\_  & \\_ \\\\\n\t 1-2      & \\_  & \\_  & \\_  & \\_  & \\_  & \\_  & \\_   & \\_  & \\_  & \\_  & \\_ \\\\\n\t 1-3      & \\_  & \\_  & \\_  & \\_  & \\_  & \\_  & \\_   & \\_  & \\_  & \\_  & \\_ \\\\\n\t 1-4      & \\_  & \\_  & \\_  & \\_  & \\_  & \\_  & \\_   & \\_  & \\_  & \\_  & \\_ \\\\\n\t 1-5      & \\_  & \\_  & \\_  & \\_  & \\_  & \\_  & \\_   & \\_  & \\_  & \\_  & \\_ \\\\\n\t 1-6      & \\_  & \\_  & \\_  & \\_  & \\_  & \\_  & \\_   & \\_  & \\_  & \\_  & \\_ \\\\\n\t 1-7      & \\_  & \\_  & \\_  & \\_  & \\_  & \\_  & \\_   & \\_  & \\_  & \\_  & \\_ \\\\\n\t 1-8      & \\_  & \\_  & \\_  & \\_  & \\_  & \\_  & \\_   & \\_  & \\_  & \\_  & \\_ \\\\\n\t 1-9      & \\_  & \\_  & \\_  & \\_  & \\_  & \\_  & \\_   & \\_  & \\_  & \\_  & \\_ \\\\\n\t 1-10     & \\_  & \\_  & \\_  & \\_  & \\_  & \\_  & \\_   & \\_  & \\_  & \\_  & \\_ \\\\\n\t 1-11     & \\_  & \\_  & \\_  & \\_  & \\_  & \\_  & \\_   & \\_  & \\_  & \\_  & \\_ \\\\\n\t 1-12     & \\_  & \\_  & \\_  & \\_  & \\_  & \\_  & \\_   & \\_  & \\_  & \\_  & \\_ \\\\\n\t 1-13     & \\_  & \\_  & \\_  & \\_  & \\_  & \\_  & \\_   & \\_  & \\_  & \\_  & \\_ \\\\\n\t 1-14     & \\_  & \\_  & \\_  & \\_  & \\_  & \\_  & \\_   & \\_  & \\_  & \\_  & \\_ \\\\\n\t 1-15     & \\_  & \\_  & \\_  & \\_  & \\_  & \\_  & \\_   & \\_  & \\_  & \\_  & \\_ \\\\\n\t 1-16     & \\_  & \\_  & \\_  & \\_  & \\_  & \\_  & \\_   & \\_  & \\_  & \\_  & \\_ \\\\\n\t 1-17     & \\_  & \\_  & \\_  & \\_  & \\_  & \\_  & \\_   & \\_  & \\_  & \\_  & \\_ \\\\\n\t 1-18     & \\_  & \\_  & \\_  & \\_  & \\_  & \\_  & \\_   & \\_  & \\_  & \\_  & \\_ \\\\\n\t 1-19     & \\_  & \\_  & \\_  & \\_  & \\_  & \\_  & \\_   & \\_  & \\_  & \\_  & \\_ \\\\\n\t 1-20     & \\_  & \\_  & \\_  & \\_  & \\_  & \\_  & \\_   & \\_  & \\_  & \\_  & \\_ \\\\\n\t 1-21     & \\_  & \\_  & \\_  & \\_  & \\_  & \\_  & \\_   & \\_  & \\_  & \\_  & \\_ \\\\\n\t 1-22     & \\_  & \\_  & \\_  & \\_  & \\_  & \\_  & \\_   & \\_  & \\_  & \\_  & \\_ \\\\\n\t 1-23     & \\_  & \\_  & \\_  & \\_  & \\_  & \\_  & \\_   & \\_  & \\_  & \\_  & \\_ \\\\\n\t 1-24     & \\_  & \\_  & \\_  & \\_  & \\_  & \\_  & \\_   & \\_  & \\_  & \\_  & \\_ \\\\\n\t 1-25     & \\_  & \\_  & \\_  & \\_  & \\_  & \\_  & \\_   & \\_  & \\_  & \\_  & \\_ \\\\\n\t 1-26     & \\_  & \\_  & \\_  & \\_  & \\_  & \\_  & \\_   & \\_  & \\_  & \\_  & \\_ \\\\\n\t 1-27     & \\_  & \\_  & \\_  & \\_  & \\_  & \\_  & \\_   & \\_  & \\_  & \\_  & \\_ \\\\\n\t 1-28     & \\_  & \\_  & \\_  & \\_  & \\_  & \\_  & \\_   & \\_  & \\_  & \\_  & \\_ \\\\\n\t 1-29     & \\_  & \\_  & \\_  & \\_  & \\_  & \\_  & \\_   & \\_  & \\_  & \\_  & \\_ \\\\\n\t ⋮ & ⋮ & ⋮ & ⋮ & ⋮ & ⋮ & ⋮ & ⋮ & ⋮ & ⋮ & ⋮ & ⋮\\\\\n\t 32-13 & \\_                     & \\_ & \\_ & \\_            & \\_                     & \\_                     & \\_ & \\_                     & \\_                     & \\_ & \\_\\\\\n\t 32-14 & \\_                     & \\_ & \\_ & \\_            & \\_                     & \\_                     & \\_ & \\_                     & \\_                     & \\_ & \\_\\\\\n\t 32-15 & \\_                     & \\_ & \\_ & \\_            & \\_                     & \\_                     & \\_ & \\_                     & \\_                     & \\_ & \\_\\\\\n\t 32-16 & \\_                     & \\_ & \\_ & \\_            & \\_                     & \\_                     & \\_ & \\_                     & \\_                     & \\_ & \\_\\\\\n\t 32-17 & \\_                     & \\_ & \\_ & \\_            & \\_                     & \\_                     & \\_ & \\_                     & \\_                     & \\_ & \\_\\\\\n\t 32-18 & \\_                     & \\_ & \\_ & \\_            & \\_                     & \\_                     & \\_ & \\_                     & \\_                     & \\_ & \\_\\\\\n\t 32-19 & \\_                     & \\_ & \\_ & \\_            & \\_                     & INTERACTION           & \\_ & \\_                     & \\_                     & \\_ & \\_\\\\\n\t 32-20 & \\_                     & \\_ & \\_ & \\_            & \\_                     & \\_                     & \\_ & \\_                     & \\_                     & \\_ & \\_\\\\\n\t 32-21 & \\_                     & \\_ & \\_ & \\_            & \\_                     & \\_                     & \\_ & \\_                     & \\_                     & \\_ & \\_\\\\\n\t 32-22 & \\_                     & \\_ & \\_ & \\_            & \\_                     & \\_                     & \\_ & \\_                     & \\_                     & \\_ & \\_\\\\\n\t 32-23 & \\_                     & \\_ & \\_ & \\_            & \\_                     & \\_                     & \\_ & \\_                     & \\_                     & \\_ & \\_\\\\\n\t 32-24 & \\_                     & \\_ & \\_ & \\_            & \\_                     & \\_                     & \\_ & \\_                     & \\_                     & \\_ & \\_\\\\\n\t 32-25 & \\_                     & \\_ & \\_ & \\_            & \\_                     & \\_                     & \\_ & \\_                     & \\_                     & \\_ & \\_\\\\\n\t 32-26 & \\_                     & \\_ & \\_ & \\_            & \\_                     & \\_                     & \\_ & \\_                     & \\_                     & \\_ & \\_\\\\\n\t 32-27 & \\_                     & \\_ & \\_ & \\_            & \\_                     & \\_                     & \\_ & \\_                     & \\_                     & \\_ & \\_\\\\\n\t 32-28 & \\_                     & \\_ & \\_ & \\_            & \\_                     & \\_                     & \\_ & \\_                     & \\_                     & \\_ & \\_\\\\\n\t 32-29 & \\_                     & \\_ & \\_ & \\_            & \\_                     & \\_                     & \\_ & \\_                     & BEVERAGE{[}43{]}          & \\_ & \\_\\\\\n\t 32-30 & BEVERAGE{[}56{]}          & \\_ & \\_ & BEVERAGE{[}46{]} & BEVERAGE{[}42{]}          & BEVERAGE{[}46{]}          & \\_ & BEVERAGE{[}38{]}          & BEVERAGE{[}43{]}          & \\_ & \\_\\\\\n\t 32-31 & BEVERAGE{[}56{]}          & \\_ & \\_ & BEVERAGE{[}46{]} & BEVERAGE{[}42{]}          & BEVERAGE{[}46{]}          & \\_ & BEVERAGE{[}38{]}          & BEVERAGE{[}43{]}          & \\_ & \\_\\\\\n\t 32-32 & BEVERAGE{[}56{]}\\textbar{}FOOD{[}57{]} & \\_ & \\_ & BEVERAGE{[}46{]} & BEVERAGE{[}42{]}\\textbar{}FOOD{[}43{]} & BEVERAGE{[}46{]}\\textbar{}FOOD{[}47{]} & \\_ & BEVERAGE{[}38{]}\\textbar{}FOOD{[}39{]} & BEVERAGE{[}43{]}\\textbar{}FOOD{[}44{]} & \\_ & \\_\\\\\n\t 32-33 & \\_                     & \\_ & \\_ & \\_            & \\_                     & \\_                     & \\_ & \\_                     & \\_                     & \\_ & \\_\\\\\n\t 32-34 & \\_                     & \\_ & \\_ & \\_            & \\_                     & \\_                     & \\_ & \\_                     & \\_                     & \\_ & \\_\\\\\n\t 32-35 & \\_                     & \\_ & \\_ & \\_            & \\_                     & \\_                     & \\_ & \\_                     & \\_                     & \\_ & \\_\\\\\n\t 32-36 & INTERACTION           & \\_ & \\_ & INTERACTION  & INTERACTION           & INTERACTION           & \\_ & INTERACTION           & \\_                     & \\_ & \\_\\\\\n\t 32-37 & \\_                     & \\_ & \\_ & \\_            & \\_                     & \\_                     & \\_ & \\_                     & \\_                     & \\_ & \\_\\\\\n\t 32-38 & \\_                     & \\_ & \\_ & \\_            & \\_                     & \\_                     & \\_ & \\_                     & \\_                     & \\_ & \\_\\\\\n\t 32-39 & DRUG                  & \\_ & \\_ & DRUG         & DRUG:HYP              & DRUG:HYPER            & \\_ & DRUG                  & \\_                     & \\_ & \\_\\\\\n\t 32-40 & \\_                     & \\_ & \\_ & \\_            & \\_                     & \\_                     & \\_ & \\_                     & \\_                     & \\_ & \\_\\\\\n\t 32-41 & \\_                     & \\_ & \\_ & \\_            & \\_                     & \\_                     & \\_ & \\_                     & \\_                     & \\_ & \\_\\\\\n\t 32-42 & \\_                     & \\_ & \\_ & \\_            & \\_                     & \\_                     & \\_ & \\_                     & \\_                     & \\_ & \\_\\\\\n\\end{tabular}\n",
            "text/markdown": "\nA data.frame: 945 × 12\n\n| V1 &lt;chr&gt; | V2 &lt;chr&gt; | V3 &lt;chr&gt; | V4 &lt;chr&gt; | V5 &lt;chr&gt; | V6 &lt;chr&gt; | V7 &lt;chr&gt; | V8 &lt;chr&gt; | V9 &lt;chr&gt; | V10 &lt;chr&gt; | V11 &lt;chr&gt; | V12 &lt;chr&gt; |\n|---|---|---|---|---|---|---|---|---|---|---|---|\n| ID:START | AR | BW | CL | JG | JL | LB | MAD | MM | NB | SB | SN |\n| 1-1      | _  | _  | _  | _  | _  | _  | _   | _  | _  | _  | _  |\n| 1-2      | _  | _  | _  | _  | _  | _  | _   | _  | _  | _  | _  |\n| 1-3      | _  | _  | _  | _  | _  | _  | _   | _  | _  | _  | _  |\n| 1-4      | _  | _  | _  | _  | _  | _  | _   | _  | _  | _  | _  |\n| 1-5      | _  | _  | _  | _  | _  | _  | _   | _  | _  | _  | _  |\n| 1-6      | _  | _  | _  | _  | _  | _  | _   | _  | _  | _  | _  |\n| 1-7      | _  | _  | _  | _  | _  | _  | _   | _  | _  | _  | _  |\n| 1-8      | _  | _  | _  | _  | _  | _  | _   | _  | _  | _  | _  |\n| 1-9      | _  | _  | _  | _  | _  | _  | _   | _  | _  | _  | _  |\n| 1-10     | _  | _  | _  | _  | _  | _  | _   | _  | _  | _  | _  |\n| 1-11     | _  | _  | _  | _  | _  | _  | _   | _  | _  | _  | _  |\n| 1-12     | _  | _  | _  | _  | _  | _  | _   | _  | _  | _  | _  |\n| 1-13     | _  | _  | _  | _  | _  | _  | _   | _  | _  | _  | _  |\n| 1-14     | _  | _  | _  | _  | _  | _  | _   | _  | _  | _  | _  |\n| 1-15     | _  | _  | _  | _  | _  | _  | _   | _  | _  | _  | _  |\n| 1-16     | _  | _  | _  | _  | _  | _  | _   | _  | _  | _  | _  |\n| 1-17     | _  | _  | _  | _  | _  | _  | _   | _  | _  | _  | _  |\n| 1-18     | _  | _  | _  | _  | _  | _  | _   | _  | _  | _  | _  |\n| 1-19     | _  | _  | _  | _  | _  | _  | _   | _  | _  | _  | _  |\n| 1-20     | _  | _  | _  | _  | _  | _  | _   | _  | _  | _  | _  |\n| 1-21     | _  | _  | _  | _  | _  | _  | _   | _  | _  | _  | _  |\n| 1-22     | _  | _  | _  | _  | _  | _  | _   | _  | _  | _  | _  |\n| 1-23     | _  | _  | _  | _  | _  | _  | _   | _  | _  | _  | _  |\n| 1-24     | _  | _  | _  | _  | _  | _  | _   | _  | _  | _  | _  |\n| 1-25     | _  | _  | _  | _  | _  | _  | _   | _  | _  | _  | _  |\n| 1-26     | _  | _  | _  | _  | _  | _  | _   | _  | _  | _  | _  |\n| 1-27     | _  | _  | _  | _  | _  | _  | _   | _  | _  | _  | _  |\n| 1-28     | _  | _  | _  | _  | _  | _  | _   | _  | _  | _  | _  |\n| 1-29     | _  | _  | _  | _  | _  | _  | _   | _  | _  | _  | _  |\n| ⋮ | ⋮ | ⋮ | ⋮ | ⋮ | ⋮ | ⋮ | ⋮ | ⋮ | ⋮ | ⋮ | ⋮ |\n| 32-13 | _                     | _ | _ | _            | _                     | _                     | _ | _                     | _                     | _ | _ |\n| 32-14 | _                     | _ | _ | _            | _                     | _                     | _ | _                     | _                     | _ | _ |\n| 32-15 | _                     | _ | _ | _            | _                     | _                     | _ | _                     | _                     | _ | _ |\n| 32-16 | _                     | _ | _ | _            | _                     | _                     | _ | _                     | _                     | _ | _ |\n| 32-17 | _                     | _ | _ | _            | _                     | _                     | _ | _                     | _                     | _ | _ |\n| 32-18 | _                     | _ | _ | _            | _                     | _                     | _ | _                     | _                     | _ | _ |\n| 32-19 | _                     | _ | _ | _            | _                     | INTERACTION           | _ | _                     | _                     | _ | _ |\n| 32-20 | _                     | _ | _ | _            | _                     | _                     | _ | _                     | _                     | _ | _ |\n| 32-21 | _                     | _ | _ | _            | _                     | _                     | _ | _                     | _                     | _ | _ |\n| 32-22 | _                     | _ | _ | _            | _                     | _                     | _ | _                     | _                     | _ | _ |\n| 32-23 | _                     | _ | _ | _            | _                     | _                     | _ | _                     | _                     | _ | _ |\n| 32-24 | _                     | _ | _ | _            | _                     | _                     | _ | _                     | _                     | _ | _ |\n| 32-25 | _                     | _ | _ | _            | _                     | _                     | _ | _                     | _                     | _ | _ |\n| 32-26 | _                     | _ | _ | _            | _                     | _                     | _ | _                     | _                     | _ | _ |\n| 32-27 | _                     | _ | _ | _            | _                     | _                     | _ | _                     | _                     | _ | _ |\n| 32-28 | _                     | _ | _ | _            | _                     | _                     | _ | _                     | _                     | _ | _ |\n| 32-29 | _                     | _ | _ | _            | _                     | _                     | _ | _                     | BEVERAGE[43]          | _ | _ |\n| 32-30 | BEVERAGE[56]          | _ | _ | BEVERAGE[46] | BEVERAGE[42]          | BEVERAGE[46]          | _ | BEVERAGE[38]          | BEVERAGE[43]          | _ | _ |\n| 32-31 | BEVERAGE[56]          | _ | _ | BEVERAGE[46] | BEVERAGE[42]          | BEVERAGE[46]          | _ | BEVERAGE[38]          | BEVERAGE[43]          | _ | _ |\n| 32-32 | BEVERAGE[56]|FOOD[57] | _ | _ | BEVERAGE[46] | BEVERAGE[42]|FOOD[43] | BEVERAGE[46]|FOOD[47] | _ | BEVERAGE[38]|FOOD[39] | BEVERAGE[43]|FOOD[44] | _ | _ |\n| 32-33 | _                     | _ | _ | _            | _                     | _                     | _ | _                     | _                     | _ | _ |\n| 32-34 | _                     | _ | _ | _            | _                     | _                     | _ | _                     | _                     | _ | _ |\n| 32-35 | _                     | _ | _ | _            | _                     | _                     | _ | _                     | _                     | _ | _ |\n| 32-36 | INTERACTION           | _ | _ | INTERACTION  | INTERACTION           | INTERACTION           | _ | INTERACTION           | _                     | _ | _ |\n| 32-37 | _                     | _ | _ | _            | _                     | _                     | _ | _                     | _                     | _ | _ |\n| 32-38 | _                     | _ | _ | _            | _                     | _                     | _ | _                     | _                     | _ | _ |\n| 32-39 | DRUG                  | _ | _ | DRUG         | DRUG:HYP              | DRUG:HYPER            | _ | DRUG                  | _                     | _ | _ |\n| 32-40 | _                     | _ | _ | _            | _                     | _                     | _ | _                     | _                     | _ | _ |\n| 32-41 | _                     | _ | _ | _            | _                     | _                     | _ | _                     | _                     | _ | _ |\n| 32-42 | _                     | _ | _ | _            | _                     | _                     | _ | _                     | _                     | _ | _ |\n\n",
            "text/html": [
              "<table class=\"dataframe\">\n",
              "<caption>A data.frame: 945 × 12</caption>\n",
              "<thead>\n",
              "\t<tr><th scope=col>V1</th><th scope=col>V2</th><th scope=col>V3</th><th scope=col>V4</th><th scope=col>V5</th><th scope=col>V6</th><th scope=col>V7</th><th scope=col>V8</th><th scope=col>V9</th><th scope=col>V10</th><th scope=col>V11</th><th scope=col>V12</th></tr>\n",
              "\t<tr><th scope=col>&lt;chr&gt;</th><th scope=col>&lt;chr&gt;</th><th scope=col>&lt;chr&gt;</th><th scope=col>&lt;chr&gt;</th><th scope=col>&lt;chr&gt;</th><th scope=col>&lt;chr&gt;</th><th scope=col>&lt;chr&gt;</th><th scope=col>&lt;chr&gt;</th><th scope=col>&lt;chr&gt;</th><th scope=col>&lt;chr&gt;</th><th scope=col>&lt;chr&gt;</th><th scope=col>&lt;chr&gt;</th></tr>\n",
              "</thead>\n",
              "<tbody>\n",
              "\t<tr><td>ID:START</td><td>AR</td><td>BW</td><td>CL</td><td>JG</td><td>JL</td><td>LB</td><td>MAD</td><td>MM</td><td>NB</td><td>SB</td><td>SN</td></tr>\n",
              "\t<tr><td>1-1     </td><td>_ </td><td>_ </td><td>_ </td><td>_ </td><td>_ </td><td>_ </td><td>_  </td><td>_ </td><td>_ </td><td>_ </td><td>_ </td></tr>\n",
              "\t<tr><td>1-2     </td><td>_ </td><td>_ </td><td>_ </td><td>_ </td><td>_ </td><td>_ </td><td>_  </td><td>_ </td><td>_ </td><td>_ </td><td>_ </td></tr>\n",
              "\t<tr><td>1-3     </td><td>_ </td><td>_ </td><td>_ </td><td>_ </td><td>_ </td><td>_ </td><td>_  </td><td>_ </td><td>_ </td><td>_ </td><td>_ </td></tr>\n",
              "\t<tr><td>1-4     </td><td>_ </td><td>_ </td><td>_ </td><td>_ </td><td>_ </td><td>_ </td><td>_  </td><td>_ </td><td>_ </td><td>_ </td><td>_ </td></tr>\n",
              "\t<tr><td>1-5     </td><td>_ </td><td>_ </td><td>_ </td><td>_ </td><td>_ </td><td>_ </td><td>_  </td><td>_ </td><td>_ </td><td>_ </td><td>_ </td></tr>\n",
              "\t<tr><td>1-6     </td><td>_ </td><td>_ </td><td>_ </td><td>_ </td><td>_ </td><td>_ </td><td>_  </td><td>_ </td><td>_ </td><td>_ </td><td>_ </td></tr>\n",
              "\t<tr><td>1-7     </td><td>_ </td><td>_ </td><td>_ </td><td>_ </td><td>_ </td><td>_ </td><td>_  </td><td>_ </td><td>_ </td><td>_ </td><td>_ </td></tr>\n",
              "\t<tr><td>1-8     </td><td>_ </td><td>_ </td><td>_ </td><td>_ </td><td>_ </td><td>_ </td><td>_  </td><td>_ </td><td>_ </td><td>_ </td><td>_ </td></tr>\n",
              "\t<tr><td>1-9     </td><td>_ </td><td>_ </td><td>_ </td><td>_ </td><td>_ </td><td>_ </td><td>_  </td><td>_ </td><td>_ </td><td>_ </td><td>_ </td></tr>\n",
              "\t<tr><td>1-10    </td><td>_ </td><td>_ </td><td>_ </td><td>_ </td><td>_ </td><td>_ </td><td>_  </td><td>_ </td><td>_ </td><td>_ </td><td>_ </td></tr>\n",
              "\t<tr><td>1-11    </td><td>_ </td><td>_ </td><td>_ </td><td>_ </td><td>_ </td><td>_ </td><td>_  </td><td>_ </td><td>_ </td><td>_ </td><td>_ </td></tr>\n",
              "\t<tr><td>1-12    </td><td>_ </td><td>_ </td><td>_ </td><td>_ </td><td>_ </td><td>_ </td><td>_  </td><td>_ </td><td>_ </td><td>_ </td><td>_ </td></tr>\n",
              "\t<tr><td>1-13    </td><td>_ </td><td>_ </td><td>_ </td><td>_ </td><td>_ </td><td>_ </td><td>_  </td><td>_ </td><td>_ </td><td>_ </td><td>_ </td></tr>\n",
              "\t<tr><td>1-14    </td><td>_ </td><td>_ </td><td>_ </td><td>_ </td><td>_ </td><td>_ </td><td>_  </td><td>_ </td><td>_ </td><td>_ </td><td>_ </td></tr>\n",
              "\t<tr><td>1-15    </td><td>_ </td><td>_ </td><td>_ </td><td>_ </td><td>_ </td><td>_ </td><td>_  </td><td>_ </td><td>_ </td><td>_ </td><td>_ </td></tr>\n",
              "\t<tr><td>1-16    </td><td>_ </td><td>_ </td><td>_ </td><td>_ </td><td>_ </td><td>_ </td><td>_  </td><td>_ </td><td>_ </td><td>_ </td><td>_ </td></tr>\n",
              "\t<tr><td>1-17    </td><td>_ </td><td>_ </td><td>_ </td><td>_ </td><td>_ </td><td>_ </td><td>_  </td><td>_ </td><td>_ </td><td>_ </td><td>_ </td></tr>\n",
              "\t<tr><td>1-18    </td><td>_ </td><td>_ </td><td>_ </td><td>_ </td><td>_ </td><td>_ </td><td>_  </td><td>_ </td><td>_ </td><td>_ </td><td>_ </td></tr>\n",
              "\t<tr><td>1-19    </td><td>_ </td><td>_ </td><td>_ </td><td>_ </td><td>_ </td><td>_ </td><td>_  </td><td>_ </td><td>_ </td><td>_ </td><td>_ </td></tr>\n",
              "\t<tr><td>1-20    </td><td>_ </td><td>_ </td><td>_ </td><td>_ </td><td>_ </td><td>_ </td><td>_  </td><td>_ </td><td>_ </td><td>_ </td><td>_ </td></tr>\n",
              "\t<tr><td>1-21    </td><td>_ </td><td>_ </td><td>_ </td><td>_ </td><td>_ </td><td>_ </td><td>_  </td><td>_ </td><td>_ </td><td>_ </td><td>_ </td></tr>\n",
              "\t<tr><td>1-22    </td><td>_ </td><td>_ </td><td>_ </td><td>_ </td><td>_ </td><td>_ </td><td>_  </td><td>_ </td><td>_ </td><td>_ </td><td>_ </td></tr>\n",
              "\t<tr><td>1-23    </td><td>_ </td><td>_ </td><td>_ </td><td>_ </td><td>_ </td><td>_ </td><td>_  </td><td>_ </td><td>_ </td><td>_ </td><td>_ </td></tr>\n",
              "\t<tr><td>1-24    </td><td>_ </td><td>_ </td><td>_ </td><td>_ </td><td>_ </td><td>_ </td><td>_  </td><td>_ </td><td>_ </td><td>_ </td><td>_ </td></tr>\n",
              "\t<tr><td>1-25    </td><td>_ </td><td>_ </td><td>_ </td><td>_ </td><td>_ </td><td>_ </td><td>_  </td><td>_ </td><td>_ </td><td>_ </td><td>_ </td></tr>\n",
              "\t<tr><td>1-26    </td><td>_ </td><td>_ </td><td>_ </td><td>_ </td><td>_ </td><td>_ </td><td>_  </td><td>_ </td><td>_ </td><td>_ </td><td>_ </td></tr>\n",
              "\t<tr><td>1-27    </td><td>_ </td><td>_ </td><td>_ </td><td>_ </td><td>_ </td><td>_ </td><td>_  </td><td>_ </td><td>_ </td><td>_ </td><td>_ </td></tr>\n",
              "\t<tr><td>1-28    </td><td>_ </td><td>_ </td><td>_ </td><td>_ </td><td>_ </td><td>_ </td><td>_  </td><td>_ </td><td>_ </td><td>_ </td><td>_ </td></tr>\n",
              "\t<tr><td>1-29    </td><td>_ </td><td>_ </td><td>_ </td><td>_ </td><td>_ </td><td>_ </td><td>_  </td><td>_ </td><td>_ </td><td>_ </td><td>_ </td></tr>\n",
              "\t<tr><td>⋮</td><td>⋮</td><td>⋮</td><td>⋮</td><td>⋮</td><td>⋮</td><td>⋮</td><td>⋮</td><td>⋮</td><td>⋮</td><td>⋮</td><td>⋮</td></tr>\n",
              "\t<tr><td>32-13</td><td>_                    </td><td>_</td><td>_</td><td>_           </td><td>_                    </td><td>_                    </td><td>_</td><td>_                    </td><td>_                    </td><td>_</td><td>_</td></tr>\n",
              "\t<tr><td>32-14</td><td>_                    </td><td>_</td><td>_</td><td>_           </td><td>_                    </td><td>_                    </td><td>_</td><td>_                    </td><td>_                    </td><td>_</td><td>_</td></tr>\n",
              "\t<tr><td>32-15</td><td>_                    </td><td>_</td><td>_</td><td>_           </td><td>_                    </td><td>_                    </td><td>_</td><td>_                    </td><td>_                    </td><td>_</td><td>_</td></tr>\n",
              "\t<tr><td>32-16</td><td>_                    </td><td>_</td><td>_</td><td>_           </td><td>_                    </td><td>_                    </td><td>_</td><td>_                    </td><td>_                    </td><td>_</td><td>_</td></tr>\n",
              "\t<tr><td>32-17</td><td>_                    </td><td>_</td><td>_</td><td>_           </td><td>_                    </td><td>_                    </td><td>_</td><td>_                    </td><td>_                    </td><td>_</td><td>_</td></tr>\n",
              "\t<tr><td>32-18</td><td>_                    </td><td>_</td><td>_</td><td>_           </td><td>_                    </td><td>_                    </td><td>_</td><td>_                    </td><td>_                    </td><td>_</td><td>_</td></tr>\n",
              "\t<tr><td>32-19</td><td>_                    </td><td>_</td><td>_</td><td>_           </td><td>_                    </td><td>INTERACTION          </td><td>_</td><td>_                    </td><td>_                    </td><td>_</td><td>_</td></tr>\n",
              "\t<tr><td>32-20</td><td>_                    </td><td>_</td><td>_</td><td>_           </td><td>_                    </td><td>_                    </td><td>_</td><td>_                    </td><td>_                    </td><td>_</td><td>_</td></tr>\n",
              "\t<tr><td>32-21</td><td>_                    </td><td>_</td><td>_</td><td>_           </td><td>_                    </td><td>_                    </td><td>_</td><td>_                    </td><td>_                    </td><td>_</td><td>_</td></tr>\n",
              "\t<tr><td>32-22</td><td>_                    </td><td>_</td><td>_</td><td>_           </td><td>_                    </td><td>_                    </td><td>_</td><td>_                    </td><td>_                    </td><td>_</td><td>_</td></tr>\n",
              "\t<tr><td>32-23</td><td>_                    </td><td>_</td><td>_</td><td>_           </td><td>_                    </td><td>_                    </td><td>_</td><td>_                    </td><td>_                    </td><td>_</td><td>_</td></tr>\n",
              "\t<tr><td>32-24</td><td>_                    </td><td>_</td><td>_</td><td>_           </td><td>_                    </td><td>_                    </td><td>_</td><td>_                    </td><td>_                    </td><td>_</td><td>_</td></tr>\n",
              "\t<tr><td>32-25</td><td>_                    </td><td>_</td><td>_</td><td>_           </td><td>_                    </td><td>_                    </td><td>_</td><td>_                    </td><td>_                    </td><td>_</td><td>_</td></tr>\n",
              "\t<tr><td>32-26</td><td>_                    </td><td>_</td><td>_</td><td>_           </td><td>_                    </td><td>_                    </td><td>_</td><td>_                    </td><td>_                    </td><td>_</td><td>_</td></tr>\n",
              "\t<tr><td>32-27</td><td>_                    </td><td>_</td><td>_</td><td>_           </td><td>_                    </td><td>_                    </td><td>_</td><td>_                    </td><td>_                    </td><td>_</td><td>_</td></tr>\n",
              "\t<tr><td>32-28</td><td>_                    </td><td>_</td><td>_</td><td>_           </td><td>_                    </td><td>_                    </td><td>_</td><td>_                    </td><td>_                    </td><td>_</td><td>_</td></tr>\n",
              "\t<tr><td>32-29</td><td>_                    </td><td>_</td><td>_</td><td>_           </td><td>_                    </td><td>_                    </td><td>_</td><td>_                    </td><td>BEVERAGE[43]         </td><td>_</td><td>_</td></tr>\n",
              "\t<tr><td>32-30</td><td>BEVERAGE[56]         </td><td>_</td><td>_</td><td>BEVERAGE[46]</td><td>BEVERAGE[42]         </td><td>BEVERAGE[46]         </td><td>_</td><td>BEVERAGE[38]         </td><td>BEVERAGE[43]         </td><td>_</td><td>_</td></tr>\n",
              "\t<tr><td>32-31</td><td>BEVERAGE[56]         </td><td>_</td><td>_</td><td>BEVERAGE[46]</td><td>BEVERAGE[42]         </td><td>BEVERAGE[46]         </td><td>_</td><td>BEVERAGE[38]         </td><td>BEVERAGE[43]         </td><td>_</td><td>_</td></tr>\n",
              "\t<tr><td>32-32</td><td>BEVERAGE[56]|FOOD[57]</td><td>_</td><td>_</td><td>BEVERAGE[46]</td><td>BEVERAGE[42]|FOOD[43]</td><td>BEVERAGE[46]|FOOD[47]</td><td>_</td><td>BEVERAGE[38]|FOOD[39]</td><td>BEVERAGE[43]|FOOD[44]</td><td>_</td><td>_</td></tr>\n",
              "\t<tr><td>32-33</td><td>_                    </td><td>_</td><td>_</td><td>_           </td><td>_                    </td><td>_                    </td><td>_</td><td>_                    </td><td>_                    </td><td>_</td><td>_</td></tr>\n",
              "\t<tr><td>32-34</td><td>_                    </td><td>_</td><td>_</td><td>_           </td><td>_                    </td><td>_                    </td><td>_</td><td>_                    </td><td>_                    </td><td>_</td><td>_</td></tr>\n",
              "\t<tr><td>32-35</td><td>_                    </td><td>_</td><td>_</td><td>_           </td><td>_                    </td><td>_                    </td><td>_</td><td>_                    </td><td>_                    </td><td>_</td><td>_</td></tr>\n",
              "\t<tr><td>32-36</td><td>INTERACTION          </td><td>_</td><td>_</td><td>INTERACTION </td><td>INTERACTION          </td><td>INTERACTION          </td><td>_</td><td>INTERACTION          </td><td>_                    </td><td>_</td><td>_</td></tr>\n",
              "\t<tr><td>32-37</td><td>_                    </td><td>_</td><td>_</td><td>_           </td><td>_                    </td><td>_                    </td><td>_</td><td>_                    </td><td>_                    </td><td>_</td><td>_</td></tr>\n",
              "\t<tr><td>32-38</td><td>_                    </td><td>_</td><td>_</td><td>_           </td><td>_                    </td><td>_                    </td><td>_</td><td>_                    </td><td>_                    </td><td>_</td><td>_</td></tr>\n",
              "\t<tr><td>32-39</td><td>DRUG                 </td><td>_</td><td>_</td><td>DRUG        </td><td>DRUG:HYP             </td><td>DRUG:HYPER           </td><td>_</td><td>DRUG                 </td><td>_                    </td><td>_</td><td>_</td></tr>\n",
              "\t<tr><td>32-40</td><td>_                    </td><td>_</td><td>_</td><td>_           </td><td>_                    </td><td>_                    </td><td>_</td><td>_                    </td><td>_                    </td><td>_</td><td>_</td></tr>\n",
              "\t<tr><td>32-41</td><td>_                    </td><td>_</td><td>_</td><td>_           </td><td>_                    </td><td>_                    </td><td>_</td><td>_                    </td><td>_                    </td><td>_</td><td>_</td></tr>\n",
              "\t<tr><td>32-42</td><td>_                    </td><td>_</td><td>_</td><td>_           </td><td>_                    </td><td>_                    </td><td>_</td><td>_                    </td><td>_                    </td><td>_</td><td>_</td></tr>\n",
              "</tbody>\n",
              "</table>\n"
            ]
          },
          "metadata": {}
        }
      ]
    },
    {
      "cell_type": "code",
      "source": [
        "gwet.ac1.raw(annotations)$est"
      ],
      "metadata": {
        "colab": {
          "base_uri": "https://localhost:8080/",
          "height": 130
        },
        "id": "csD35NxvX_7l",
        "outputId": "d5161313-1c95-4c4f-c79f-2e85078dff3a"
      },
      "execution_count": 12,
      "outputs": [
        {
          "output_type": "display_data",
          "data": {
            "text/plain": [
              "  coeff.name pa        pe           coeff.val coeff.se conf.int      p.value\n",
              "1 AC1        0.7035113 0.0003027244 0.70342   0.0073   (0.689,0.718) 0      \n",
              "  w.name    \n",
              "1 unweighted"
            ],
            "text/latex": "A data.frame: 1 × 8\n\\begin{tabular}{llllllll}\n coeff.name & pa & pe & coeff.val & coeff.se & conf.int & p.value & w.name\\\\\n <chr> & <dbl> & <dbl> & <dbl> & <dbl> & <chr> & <dbl> & <chr>\\\\\n\\hline\n\t AC1 & 0.7035113 & 0.0003027244 & 0.70342 & 0.0073 & (0.689,0.718) & 0 & unweighted\\\\\n\\end{tabular}\n",
            "text/markdown": "\nA data.frame: 1 × 8\n\n| coeff.name &lt;chr&gt; | pa &lt;dbl&gt; | pe &lt;dbl&gt; | coeff.val &lt;dbl&gt; | coeff.se &lt;dbl&gt; | conf.int &lt;chr&gt; | p.value &lt;dbl&gt; | w.name &lt;chr&gt; |\n|---|---|---|---|---|---|---|---|\n| AC1 | 0.7035113 | 0.0003027244 | 0.70342 | 0.0073 | (0.689,0.718) | 0 | unweighted |\n\n",
            "text/html": [
              "<table class=\"dataframe\">\n",
              "<caption>A data.frame: 1 × 8</caption>\n",
              "<thead>\n",
              "\t<tr><th scope=col>coeff.name</th><th scope=col>pa</th><th scope=col>pe</th><th scope=col>coeff.val</th><th scope=col>coeff.se</th><th scope=col>conf.int</th><th scope=col>p.value</th><th scope=col>w.name</th></tr>\n",
              "\t<tr><th scope=col>&lt;chr&gt;</th><th scope=col>&lt;dbl&gt;</th><th scope=col>&lt;dbl&gt;</th><th scope=col>&lt;dbl&gt;</th><th scope=col>&lt;dbl&gt;</th><th scope=col>&lt;chr&gt;</th><th scope=col>&lt;dbl&gt;</th><th scope=col>&lt;chr&gt;</th></tr>\n",
              "</thead>\n",
              "<tbody>\n",
              "\t<tr><td>AC1</td><td>0.7035113</td><td>0.0003027244</td><td>0.70342</td><td>0.0073</td><td>(0.689,0.718)</td><td>0</td><td>unweighted</td></tr>\n",
              "</tbody>\n",
              "</table>\n"
            ]
          },
          "metadata": {}
        }
      ]
    }
  ]
}